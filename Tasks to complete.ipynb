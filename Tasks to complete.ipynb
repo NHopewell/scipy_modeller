{
 "cells": [
  {
   "cell_type": "markdown",
   "metadata": {},
   "source": [
    "## TODO  \n",
    "\n",
    "1. Complete modules, add more models, more configs, etc. - implement the workflow \n",
    "2. Try to allow multiple hyperparameter jobs to run in parallel. \n",
    "3. Write the API documentation. \n",
    "4. Continue to extend API to cover more cases. \n",
    "5. Get ongoing feedback those interacting with API - improve, extend, iterate.\n",
    "6. Make this a team effort ? (project is, in my mind, at an MVP stage with maybe 1/10th the basic features it could have and already _____ lines of code. So multiply that by conservatively 5x"
   ]
  },
  {
   "cell_type": "code",
   "execution_count": null,
   "metadata": {},
   "outputs": [],
   "source": []
  }
 ],
 "metadata": {
  "kernelspec": {
   "display_name": "Python 3",
   "language": "python",
   "name": "python3"
  },
  "language_info": {
   "codemirror_mode": {
    "name": "ipython",
    "version": 3
   },
   "file_extension": ".py",
   "mimetype": "text/x-python",
   "name": "python",
   "nbconvert_exporter": "python",
   "pygments_lexer": "ipython3",
   "version": "3.7.1"
  }
 },
 "nbformat": 4,
 "nbformat_minor": 2
}
