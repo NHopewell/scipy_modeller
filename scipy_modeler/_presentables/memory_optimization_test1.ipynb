{
 "cells": [
  {
   "cell_type": "code",
   "execution_count": null,
   "metadata": {},
   "outputs": [],
   "source": [
    "\"\"\"\n",
    "-*- coding: utf-8 -*-\n",
    "@author: Nicholas Hopewell\n",
    "@created: August 29, 2019\n",
    "--------------------------------------------------\n",
    "This file is a simple test of my method for\n",
    "reading in data with a struc I generate beforehand\n",
    "(using prefiltering, proper dtypes, and cat pointers) \n",
    "versus the current method AASC uses to read data\n",
    "into Python.\n",
    "\n",
    "The results are summarized in a table below. \n",
    "As seen, my method provides massive gains in terms\n",
    "of memory management and will be mandatory when\n",
    "working in memoery with multiple large tables.\n",
    "\"\"\""
   ]
  },
  {
   "cell_type": "code",
   "execution_count": 2,
   "metadata": {},
   "outputs": [
    {
     "name": "stdout",
     "output_type": "stream",
     "text": [
      "Changing schema reference.\n",
      "Using schema: SPSS_SCH.\n"
     ]
    }
   ],
   "source": [
    "from AALTable_ import AALTable\n",
    "from table_strucs import sp_india_struc\n",
    "import pandas as pd\n",
    "import pyodbc as odbc"
   ]
  },
  {
   "cell_type": "code",
   "execution_count": 2,
   "metadata": {},
   "outputs": [],
   "source": [
    "#  USING MY METHOD\n",
    "main = AALTable(schema='SPSS_SCH', \n",
    "                 name='SP_INDIA_MAIN',\n",
    "                 struc=sp_india_struc)\n",
    "\n",
    "#  COMPARED TO PREXISTING METHOD USED\n",
    "con = odbc.connect(dsn='Netezza AAL', autocommit=False)\n",
    "to_compare = pd.read_sql(\"SELECT * FROM SPSS_SCH.SP_INDIA_MAIN;\", con=con)"
   ]
  },
  {
   "cell_type": "code",
   "execution_count": null,
   "metadata": {},
   "outputs": [],
   "source": [
    "#to_compare.info() #219.3 MB\n",
    "#to_compare.dtypes\n",
    "\n",
    "#main.data.info()  #88.7 MB\n",
    "#main.data.dtypes"
   ]
  },
  {
   "cell_type": "code",
   "execution_count": 3,
   "metadata": {},
   "outputs": [],
   "source": [
    "# >>>>>  X10 <<<<<<\n",
    "x = pd.concat([to_compare, to_compare, to_compare, to_compare, \n",
    "               to_compare, to_compare, to_compare, to_compare, to_compare, to_compare])\n",
    "#x.shape #(2932760, 98)\n",
    "#x.info() #  2.2+ GB\n",
    "\n",
    "z = pd.concat([main.data, main.data, main.data, main.data, main.data, main.data, \n",
    "               main.data, main.data, main.data, main.data])\n",
    "\n",
    "\n",
    "#z.shape #(2932760, 89)\n",
    "#z.info() # 861.2+ MB"
   ]
  },
  {
   "cell_type": "code",
   "execution_count": 4,
   "metadata": {},
   "outputs": [],
   "source": [
    "del main\n",
    "del to_compare"
   ]
  },
  {
   "cell_type": "code",
   "execution_count": null,
   "metadata": {},
   "outputs": [],
   "source": [
    "# >>>>>  X30 <<<<<<\n",
    "a = pd.concat([x, x, x])\n",
    "#a.shape # (8798280, 98)\n",
    "#a.info()  # 6.5+ GB"
   ]
  },
  {
   "cell_type": "code",
   "execution_count": null,
   "metadata": {},
   "outputs": [],
   "source": [
    "del a"
   ]
  },
  {
   "cell_type": "code",
   "execution_count": null,
   "metadata": {},
   "outputs": [],
   "source": [
    "b = pd.concat([z, z, z])\n",
    "#b.shape #(8798280, 89)\n",
    "#b.info()  # 2.5+ GB"
   ]
  },
  {
   "cell_type": "code",
   "execution_count": null,
   "metadata": {},
   "outputs": [],
   "source": [
    "del b "
   ]
  },
  {
   "cell_type": "markdown",
   "metadata": {},
   "source": [
    "\n",
    "|      ~     | **old_way**      | **my_way**      |\n",
    "|-----------|--------------|-------------|\n",
    "|  **x1**                                  |\n",
    "|  df shape:   |(293276, 98)  |(293276, 89) |\n",
    "|  memory used:| 219.3 MB     | 88.7 MB     |\n",
    "| **x10**                                  |\n",
    "|  df shape:   |(2932760, 98) |(2932760, 89)|\n",
    "|  memory used:|2.2+ GB       |861.2+ MB    |\n",
    "| **x30**                                  |\n",
    "|  df shape:   |(8798280, 98) |(8798280, 89)|\n",
    "|  memory used:|6.5+ GB       |2.5+ GB      |"
   ]
  },
  {
   "cell_type": "code",
   "execution_count": 3,
   "metadata": {},
   "outputs": [],
   "source": [
    "### VIZUALIZED:\n",
    "#\n",
    "import seaborn as sns\n",
    "\n",
    "data = [['old_way', 'x1\\n(293276 rows)', 219.3], ['my_way', 'x1\\n(293276 rows)', 88.7],\n",
    "        ['old_way', 'x10\\n(2932760 rows)', 2200], ['my_way', 'x10\\n(2932760 rows)', 861.2],\n",
    "        ['old_way', 'x30\\n(8798280 rows)', 6500], ['my_way', 'x30\\n(8798280 rows)', 2500]]\n",
    "results = pd.DataFrame(data, columns=['Method', 'nrows', 'size_in_MB'])"
   ]
  },
  {
   "cell_type": "code",
   "execution_count": 4,
   "metadata": {},
   "outputs": [
    {
     "data": {
      "text/plain": [
       "<matplotlib.axes._subplots.AxesSubplot at 0xa43c4e0>"
      ]
     },
     "execution_count": 4,
     "metadata": {},
     "output_type": "execute_result"
    },
    {
     "data": {
      "image/png": "[encoded data removed]",
      "text/plain": [
       "<Figure size 432x288 with 1 Axes>"
      ]
     },
     "metadata": {
      "needs_background": "light"
     },
     "output_type": "display_data"
    }
   ],
   "source": [
    "sns.barplot(x=\"nrows\", y=\"size_in_MB\", hue=\"Method\", \n",
    "            data=results)"
   ]
  },
  {
   "cell_type": "code",
   "execution_count": 5,
   "metadata": {},
   "outputs": [
    {
     "data": {
      "text/plain": [
       "<seaborn.axisgrid.FacetGrid at 0xa43c198>"
      ]
     },
     "execution_count": 5,
     "metadata": {},
     "output_type": "execute_result"
    },
    {
     "data": {
      "image/png": "[encoded data removed]",
      "text/plain": [
       "<Figure size 436.625x360 with 1 Axes>"
      ]
     },
     "metadata": {
      "needs_background": "light"
     },
     "output_type": "display_data"
    }
   ],
   "source": [
    "sns.catplot(x=\"nrows\", y=\"size_in_MB\", hue=\"Method\", kind=\"point\", \n",
    "            data=results)"
   ]
  },
  {
   "cell_type": "code",
   "execution_count": null,
   "metadata": {},
   "outputs": [],
   "source": []
  }
 ],
 "metadata": {
  "kernelspec": {
   "display_name": "Python 3",
   "language": "python",
   "name": "python3"
  },
  "language_info": {
   "codemirror_mode": {
    "name": "ipython",
    "version": 3
   },
   "file_extension": ".py",
   "mimetype": "text/x-python",
   "name": "python",
   "nbconvert_exporter": "python",
   "pygments_lexer": "ipython3",
   "version": "3.7.1"
  }
 },
 "nbformat": 4,
 "nbformat_minor": 2
}
