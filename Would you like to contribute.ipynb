{
 "cells": [
  {
   "cell_type": "markdown",
   "metadata": {},
   "source": [
    "### Progress of 11:26 am yesterday:  \n",
    "\n",
    "___\n",
    "**% complete:**\n",
    "* I'd say **~30%** (but the hardest 30% no doubt) \n",
    "____\n",
    "**Progress so far:**\n",
    ">* **~2477 lines of python code** (not including comments, doc strings, nor blank lines)\n",
    ">* **14 classes**\n",
    ">* **161 methods**\n",
    ">* **39 functions**\n",
    "\n",
    "\n",
    "*In other words -  the scope of this project is extremely large and way more work than I can manage unless I have like 8 months to do it non-stop.*   \n",
    "___\n",
    "**Major tasks that could be developed after the core modules are done:**  \n",
    "* a GUI.  \n",
    "* Creating an App to sever our models.  \n",
    "* Distribute as a package (which would require maintenance). \n",
    "___"
   ]
  },
  {
   "cell_type": "markdown",
   "metadata": {},
   "source": [
    "### Contributing:"
   ]
  },
  {
   "cell_type": "markdown",
   "metadata": {},
   "source": [
    "http://gcdocs2/otcs/cs.exe?func=ll&objaction=overview&objid=323537564\n",
    "    "
   ]
  }
 ],
 "metadata": {
  "kernelspec": {
   "display_name": "Python 3",
   "language": "python",
   "name": "python3"
  },
  "language_info": {
   "codemirror_mode": {
    "name": "ipython",
    "version": 3
   },
   "file_extension": ".py",
   "mimetype": "text/x-python",
   "name": "python",
   "nbconvert_exporter": "python",
   "pygments_lexer": "ipython3",
   "version": "3.7.4"
  }
 },
 "nbformat": 4,
 "nbformat_minor": 2
}
